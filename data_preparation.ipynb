{
 "cells": [
  {
   "attachments": {},
   "cell_type": "markdown",
   "metadata": {},
   "source": [
    "# Data cleaning Notebook"
   ]
  },
  {
   "attachments": {},
   "cell_type": "markdown",
   "metadata": {},
   "source": [
    "### Libraries"
   ]
  },
  {
   "cell_type": "code",
   "execution_count": 1,
   "metadata": {},
   "outputs": [],
   "source": [
    "import pandas as pd\n",
    "import numpy as np"
   ]
  },
  {
   "attachments": {},
   "cell_type": "markdown",
   "metadata": {},
   "source": [
    "### Data import"
   ]
  },
  {
   "cell_type": "code",
   "execution_count": 2,
   "metadata": {},
   "outputs": [
    {
     "name": "stdout",
     "output_type": "stream",
     "text": [
      "<class 'pandas.core.frame.DataFrame'>\n",
      "RangeIndex: 100000 entries, 0 to 99999\n",
      "Data columns (total 9 columns):\n",
      " #   Column               Non-Null Count   Dtype  \n",
      "---  ------               --------------   -----  \n",
      " 0   gender               100000 non-null  object \n",
      " 1   age                  100000 non-null  float64\n",
      " 2   hypertension         100000 non-null  int64  \n",
      " 3   heart_disease        100000 non-null  int64  \n",
      " 4   smoking_history      100000 non-null  object \n",
      " 5   bmi                  100000 non-null  float64\n",
      " 6   HbA1c_level          100000 non-null  float64\n",
      " 7   blood_glucose_level  100000 non-null  int64  \n",
      " 8   diabetes             100000 non-null  int64  \n",
      "dtypes: float64(3), int64(4), object(2)\n",
      "memory usage: 6.9+ MB\n"
     ]
    }
   ],
   "source": [
    "ruta = 'data/diabetes_prediction_dataset.csv'\n",
    "data = pd.read_csv(ruta)\n",
    "data.info()\n",
    "#data.head()"
   ]
  },
  {
   "cell_type": "code",
   "execution_count": 3,
   "metadata": {},
   "outputs": [
    {
     "name": "stdout",
     "output_type": "stream",
     "text": [
      "Columna gender:3 subniveles\n",
      "Columna smoking_history:6 subniveles\n",
      "Columna age:102 subniveles\n",
      "Columna hypertension:2 subniveles\n",
      "Columna heart_disease:2 subniveles\n",
      "Columna bmi:4247 subniveles\n",
      "Columna HbA1c_level:18 subniveles\n",
      "Columna blood_glucose_level:18 subniveles\n",
      "Columna diabetes:2 subniveles\n"
     ]
    }
   ],
   "source": [
    "cols = ['gender','smoking_history','age','hypertension','heart_disease','bmi','HbA1c_level','blood_glucose_level','diabetes']\n",
    "data = data.loc[:,cols]\n",
    "\n",
    "for col in cols:\n",
    "  print(f'Columna {col}:{data[col].nunique()} subniveles')"
   ]
  },
  {
   "cell_type": "code",
   "execution_count": 4,
   "metadata": {},
   "outputs": [
    {
     "name": "stdout",
     "output_type": "stream",
     "text": [
      "['Female' 'Male' 'Other']\n",
      "['never' 'No Info' 'current' 'former' 'ever' 'not current']\n",
      "[80.   54.   28.   36.   76.   20.   44.   79.   42.   32.   53.   78.\n",
      " 67.   15.   37.   40.    5.   69.   72.    4.   30.   45.   43.   50.\n",
      " 41.   26.   34.   73.   77.   66.   29.   60.   38.    3.   57.   74.\n",
      " 19.   46.   21.   59.   27.   13.   56.    2.    7.   11.    6.   55.\n",
      "  9.   62.   47.   12.   68.   75.   22.   58.   18.   24.   17.   25.\n",
      "  0.08 33.   16.   61.   31.    8.   49.   39.   65.   14.   70.    0.56\n",
      " 48.   51.   71.    0.88 64.   63.   52.    0.16 10.   35.   23.    0.64\n",
      "  1.16  1.64  0.72  1.88  1.32  0.8   1.24  1.    1.8   0.48  1.56  1.08\n",
      "  0.24  1.4   0.4   0.32  1.72  1.48]\n",
      "[0 1]\n",
      "[1 0]\n",
      "[25.19 27.32 23.45 ... 59.42 44.39 60.52]\n",
      "[6.6 5.7 5.  4.8 6.5 6.1 6.  5.8 3.5 6.2 4.  4.5 9.  7.  8.8 8.2 7.5 6.8]\n",
      "[140  80 158 155  85 200 145 100 130 160 126 159  90 260 220 300 280 240]\n",
      "[0 1]\n"
     ]
    }
   ],
   "source": [
    "#trycol = data['smoking_history'].unique()\n",
    "for col in cols:\n",
    "    trycol = data[col].unique()\n",
    "    print(trycol)"
   ]
  },
  {
   "attachments": {},
   "cell_type": "markdown",
   "metadata": {},
   "source": [
    "### Patterns"
   ]
  },
  {
   "attachments": {},
   "cell_type": "markdown",
   "metadata": {},
   "source": [
    "Let's proceed to define the ranges with which we are going to establish the patterns.\n",
    "\n",
    "*   Age: 25 - 80\n",
    "*   Gender: Male & Female\n",
    "*   bmi: 6 differents (check web)\n",
    "*   smoking_history: 4 differents (never, current, former,ever)"
   ]
  },
  {
   "cell_type": "code",
   "execution_count": 5,
   "metadata": {},
   "outputs": [
    {
     "name": "stdout",
     "output_type": "stream",
     "text": [
      "[0 1 2 3]\n"
     ]
    }
   ],
   "source": [
    "# Smoking_history\n",
    "data['smoking_history'] = data['smoking_history'].str.replace('not current','former', regex = False)\n",
    "data = data.drop(data[data['smoking_history'] == 'No Info'].index)\n",
    "data = data.drop(data[data['gender'] == 'Other'].index)\n",
    "\n",
    "data['smoking_history'] = data['smoking_history'].replace('never',0)\n",
    "data['smoking_history'] = data['smoking_history'].replace('current',1)\n",
    "data['smoking_history'] = data['smoking_history'].replace('former',2)\n",
    "data['smoking_history'] = data['smoking_history'].replace('ever',3)\n",
    "\n",
    "trycol = data['smoking_history'].unique()\n",
    "print(trycol)"
   ]
  },
  {
   "cell_type": "code",
   "execution_count": 6,
   "metadata": {},
   "outputs": [],
   "source": [
    "# Age\n",
    "data = data.loc[(data['age'] >= 25) & (data['age'] <= 80)]"
   ]
  },
  {
   "cell_type": "code",
   "execution_count": 7,
   "metadata": {},
   "outputs": [
    {
     "name": "stdout",
     "output_type": "stream",
     "text": [
      "[2. 1. 3. 5. 4. 0.]\n"
     ]
    }
   ],
   "source": [
    "# BMI\n",
    "data['bmi'] = np.where((data['bmi'] <= 18.5), 5001, data['bmi'])\n",
    "data['bmi'] = np.where((data['bmi'] > 18.5) & (data['bmi'] <= 24.9), 5002, data['bmi'])\n",
    "data['bmi'] = np.where((data['bmi'] > 24.9) & (data['bmi'] <= 29.9), 5003, data['bmi'])\n",
    "data['bmi'] = np.where((data['bmi'] > 29.9) & (data['bmi'] <= 34.9), 5004, data['bmi'])\n",
    "data['bmi'] = np.where((data['bmi'] > 34.9) & (data['bmi'] <= 39.9), 5005, data['bmi'])\n",
    "data['bmi'] = np.where((data['bmi'] > 39.9) & (data['bmi'] <= 99.9), 5006, data['bmi'])\n",
    "\n",
    "data['bmi'] = data['bmi'].replace(5001, 0)\n",
    "data['bmi'] = data['bmi'].replace(5002, 1)\n",
    "data['bmi'] = data['bmi'].replace(5003, 2)\n",
    "data['bmi'] = data['bmi'].replace(5004, 3)\n",
    "data['bmi'] = data['bmi'].replace(5005, 4)\n",
    "data['bmi'] = data['bmi'].replace(5006, 5)\n",
    "\n",
    "trycol = data['bmi'].unique()\n",
    "print(trycol)"
   ]
  },
  {
   "cell_type": "code",
   "execution_count": 8,
   "metadata": {},
   "outputs": [],
   "source": [
    "# Gender\n",
    "data['gender'] = data['gender'].replace('Male',0)\n",
    "data['gender'] = data['gender'].replace('Female',1)"
   ]
  },
  {
   "attachments": {},
   "cell_type": "markdown",
   "metadata": {},
   "source": [
    "Ranges where it is 100% certain that you have diabetes.\n",
    "* BGL > 160\n",
    "* HbA1c > 6.5\n",
    "\n",
    "The other values are not indicative of diabetes\n"
   ]
  },
  {
   "attachments": {},
   "cell_type": "markdown",
   "metadata": {},
   "source": [
    "Targets are set for an adaline neuron in the output layer."
   ]
  },
  {
   "cell_type": "code",
   "execution_count": 9,
   "metadata": {},
   "outputs": [
    {
     "name": "stdout",
     "output_type": "stream",
     "text": [
      "Conteo de valores en la columna: \n",
      "diabetes\n",
      "0    47191\n",
      "1     6947\n",
      "Name: count, dtype: int64\n"
     ]
    }
   ],
   "source": [
    "count = data['diabetes'].value_counts()\n",
    "print(f'Conteo de valores en la columna: \\n{count}')"
   ]
  },
  {
   "cell_type": "code",
   "execution_count": 10,
   "metadata": {},
   "outputs": [
    {
     "name": "stdout",
     "output_type": "stream",
     "text": [
      "[ 1 -1]\n"
     ]
    }
   ],
   "source": [
    "#data['diabetes'] = data['diabetes'].replace()\n",
    "\n",
    "BGL_condicion = (data['blood_glucose_level'] > 126) | (data['HbA1c_level'] > 6.5)\n",
    "data.loc[BGL_condicion, 'diabetes'] = 1\n",
    "\n",
    "data['diabetes'] = data['diabetes'].replace(0,-1)\n",
    "print(data['diabetes'].unique())"
   ]
  },
  {
   "attachments": {},
   "cell_type": "markdown",
   "metadata": {},
   "source": [
    "We check that our data are not biased to a single prediction. "
   ]
  },
  {
   "cell_type": "code",
   "execution_count": 11,
   "metadata": {},
   "outputs": [
    {
     "name": "stdout",
     "output_type": "stream",
     "text": [
      "Conteo de valores en la columna: \n",
      "diabetes\n",
      " 1    37631\n",
      "-1    16507\n",
      "Name: count, dtype: int64\n"
     ]
    }
   ],
   "source": [
    "count = data['diabetes'].value_counts()\n",
    "print(f'Conteo de valores en la columna: \\n{count}')"
   ]
  },
  {
   "cell_type": "code",
   "execution_count": 12,
   "metadata": {},
   "outputs": [
    {
     "name": "stdout",
     "output_type": "stream",
     "text": [
      "Columna gender:2 subniveles\n",
      "Columna smoking_history:4 subniveles\n",
      "Columna age:56 subniveles\n",
      "Columna hypertension:2 subniveles\n",
      "Columna heart_disease:2 subniveles\n",
      "Columna bmi:6 subniveles\n",
      "Columna HbA1c_level:18 subniveles\n",
      "Columna blood_glucose_level:18 subniveles\n",
      "Columna diabetes:2 subniveles\n"
     ]
    }
   ],
   "source": [
    "for col in cols:\n",
    "    trycol = data[col].unique()\n",
    "    print(f'Columna {col}:{data[col].nunique()} subniveles')\n",
    "    #print(trycol)"
   ]
  },
  {
   "cell_type": "code",
   "execution_count": 13,
   "metadata": {},
   "outputs": [
    {
     "name": "stdout",
     "output_type": "stream",
     "text": [
      "<class 'pandas.core.frame.DataFrame'>\n",
      "Index: 54138 entries, 0 to 99999\n",
      "Data columns (total 9 columns):\n",
      " #   Column               Non-Null Count  Dtype  \n",
      "---  ------               --------------  -----  \n",
      " 0   gender               54138 non-null  int64  \n",
      " 1   smoking_history      54138 non-null  int64  \n",
      " 2   age                  54138 non-null  float64\n",
      " 3   hypertension         54138 non-null  int64  \n",
      " 4   heart_disease        54138 non-null  int64  \n",
      " 5   bmi                  54138 non-null  float64\n",
      " 6   HbA1c_level          54138 non-null  float64\n",
      " 7   blood_glucose_level  54138 non-null  int64  \n",
      " 8   diabetes             54138 non-null  int64  \n",
      "dtypes: float64(3), int64(6)\n",
      "memory usage: 4.1 MB\n"
     ]
    }
   ],
   "source": [
    "data.info()"
   ]
  },
  {
   "attachments": {},
   "cell_type": "markdown",
   "metadata": {},
   "source": [
    "### Data exportation"
   ]
  },
  {
   "attachments": {},
   "cell_type": "markdown",
   "metadata": {},
   "source": [
    "In case fewer standards are required, a random sampling of 200 samples is performed."
   ]
  },
  {
   "cell_type": "code",
   "execution_count": 14,
   "metadata": {},
   "outputs": [
    {
     "name": "stdout",
     "output_type": "stream",
     "text": [
      "Conteo de valores en la columna: diabetes\n",
      " 1    1430\n",
      "-1     570\n",
      "Name: count, dtype: int64\n"
     ]
    }
   ],
   "source": [
    "data_clean = data.sample(n=2000)\n",
    "count = data_clean['diabetes'].value_counts()\n",
    "print(f'Conteo de valores en la columna: {count}')"
   ]
  },
  {
   "attachments": {},
   "cell_type": "markdown",
   "metadata": {},
   "source": [
    "The information must be normalized so that it can enter the neuron."
   ]
  },
  {
   "attachments": {},
   "cell_type": "markdown",
   "metadata": {},
   "source": [
    "The maximum values will be the ones we will use to treat the input information to the GUI."
   ]
  },
  {
   "cell_type": "code",
   "execution_count": 15,
   "metadata": {},
   "outputs": [
    {
     "name": "stdout",
     "output_type": "stream",
     "text": [
      "1\n",
      "3\n",
      "80.0\n",
      "1\n",
      "1\n",
      "5.0\n",
      "9.0\n",
      "300\n",
      "1\n"
     ]
    }
   ],
   "source": [
    "for col in cols:\n",
    "    max_value = data_clean[col].unique().max()\n",
    "    print(max_value)\n",
    "\n",
    "    data_clean[col] = data_clean[col] / max_value"
   ]
  },
  {
   "cell_type": "code",
   "execution_count": 16,
   "metadata": {},
   "outputs": [
    {
     "name": "stdout",
     "output_type": "stream",
     "text": [
      "1.0\n",
      "1.0\n",
      "1.0\n",
      "1.0\n",
      "1.0\n",
      "1.0\n",
      "1.0\n",
      "1.0\n",
      "1.0\n",
      "<class 'pandas.core.frame.DataFrame'>\n",
      "Index: 2000 entries, 10412 to 4673\n",
      "Data columns (total 9 columns):\n",
      " #   Column               Non-Null Count  Dtype  \n",
      "---  ------               --------------  -----  \n",
      " 0   gender               2000 non-null   float64\n",
      " 1   smoking_history      2000 non-null   float64\n",
      " 2   age                  2000 non-null   float64\n",
      " 3   hypertension         2000 non-null   float64\n",
      " 4   heart_disease        2000 non-null   float64\n",
      " 5   bmi                  2000 non-null   float64\n",
      " 6   HbA1c_level          2000 non-null   float64\n",
      " 7   blood_glucose_level  2000 non-null   float64\n",
      " 8   diabetes             2000 non-null   float64\n",
      "dtypes: float64(9)\n",
      "memory usage: 156.2 KB\n"
     ]
    }
   ],
   "source": [
    "for col in cols:\n",
    "    max_value = data_clean[col].unique().max()\n",
    "    print(max_value)\n",
    "\n",
    "data_clean.info()"
   ]
  },
  {
   "cell_type": "code",
   "execution_count": null,
   "metadata": {},
   "outputs": [],
   "source": [
    "training = data_clean.sample(frac=0.7)\n",
    "testing = data_clean.drop(training.index)"
   ]
  },
  {
   "cell_type": "code",
   "execution_count": null,
   "metadata": {},
   "outputs": [],
   "source": [
    "ruta1 = 'data/training.csv'\n",
    "ruta2 = 'data/testing.csv'\n",
    "\n",
    "training.to_csv(ruta1)\n",
    "testing.to_csv(ruta2)"
   ]
  }
 ],
 "metadata": {
  "kernelspec": {
   "display_name": "NNProject",
   "language": "python",
   "name": "python3"
  },
  "language_info": {
   "codemirror_mode": {
    "name": "ipython",
    "version": 3
   },
   "file_extension": ".py",
   "mimetype": "text/x-python",
   "name": "python",
   "nbconvert_exporter": "python",
   "pygments_lexer": "ipython3",
   "version": "3.10.11"
  },
  "orig_nbformat": 4
 },
 "nbformat": 4,
 "nbformat_minor": 2
}
